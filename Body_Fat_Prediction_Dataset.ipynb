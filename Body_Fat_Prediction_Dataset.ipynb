{
  "nbformat": 4,
  "nbformat_minor": 0,
  "metadata": {
    "colab": {
      "name": "Body Fat Prediction Dataset",
      "provenance": []
    },
    "kernelspec": {
      "name": "python3",
      "display_name": "Python 3"
    },
    "language_info": {
      "name": "python"
    }
  },
  "cells": [
    {
      "cell_type": "code",
      "execution_count": null,
      "metadata": {
        "id": "qM9mOeWD55HZ"
      },
      "outputs": [],
      "source": [
        "import pandas as pd\n",
        "import numpy as np\n",
        "import matplotlib.pyplot as plt"
      ]
    },
    {
      "cell_type": "code",
      "source": [
        "df = pd.read_csv('bodyfat.csv')"
      ],
      "metadata": {
        "id": "xJZhd9kV6PSA"
      },
      "execution_count": null,
      "outputs": []
    },
    {
      "cell_type": "markdown",
      "source": [
        "# Exploratory Data Analysis"
      ],
      "metadata": {
        "id": "9uOtDaN66iyZ"
      }
    },
    {
      "cell_type": "code",
      "source": [
        "df.head()"
      ],
      "metadata": {
        "colab": {
          "base_uri": "https://localhost:8080/",
          "height": 206
        },
        "id": "iPCA2yUp6S52",
        "outputId": "7b7c848e-cd4b-418e-b365-d80fb35d10d6"
      },
      "execution_count": null,
      "outputs": [
        {
          "output_type": "execute_result",
          "data": {
            "text/plain": [
              "   Density  BodyFat  Age  Weight  Height  Neck  Chest  Abdomen    Hip  Thigh  \\\n",
              "0   1.0708     12.3   23  154.25   67.75  36.2   93.1     85.2   94.5   59.0   \n",
              "1   1.0853      6.1   22  173.25   72.25  38.5   93.6     83.0   98.7   58.7   \n",
              "2   1.0414     25.3   22  154.00   66.25  34.0   95.8     87.9   99.2   59.6   \n",
              "3   1.0751     10.4   26  184.75   72.25  37.4  101.8     86.4  101.2   60.1   \n",
              "4   1.0340     28.7   24  184.25   71.25  34.4   97.3    100.0  101.9   63.2   \n",
              "\n",
              "   Knee  Ankle  Biceps  Forearm  Wrist  \n",
              "0  37.3   21.9    32.0     27.4   17.1  \n",
              "1  37.3   23.4    30.5     28.9   18.2  \n",
              "2  38.9   24.0    28.8     25.2   16.6  \n",
              "3  37.3   22.8    32.4     29.4   18.2  \n",
              "4  42.2   24.0    32.2     27.7   17.7  "
            ],
            "text/html": [
              "\n",
              "  <div id=\"df-6536d98a-77a0-4de8-a88f-a7ebd7300f1b\">\n",
              "    <div class=\"colab-df-container\">\n",
              "      <div>\n",
              "<style scoped>\n",
              "    .dataframe tbody tr th:only-of-type {\n",
              "        vertical-align: middle;\n",
              "    }\n",
              "\n",
              "    .dataframe tbody tr th {\n",
              "        vertical-align: top;\n",
              "    }\n",
              "\n",
              "    .dataframe thead th {\n",
              "        text-align: right;\n",
              "    }\n",
              "</style>\n",
              "<table border=\"1\" class=\"dataframe\">\n",
              "  <thead>\n",
              "    <tr style=\"text-align: right;\">\n",
              "      <th></th>\n",
              "      <th>Density</th>\n",
              "      <th>BodyFat</th>\n",
              "      <th>Age</th>\n",
              "      <th>Weight</th>\n",
              "      <th>Height</th>\n",
              "      <th>Neck</th>\n",
              "      <th>Chest</th>\n",
              "      <th>Abdomen</th>\n",
              "      <th>Hip</th>\n",
              "      <th>Thigh</th>\n",
              "      <th>Knee</th>\n",
              "      <th>Ankle</th>\n",
              "      <th>Biceps</th>\n",
              "      <th>Forearm</th>\n",
              "      <th>Wrist</th>\n",
              "    </tr>\n",
              "  </thead>\n",
              "  <tbody>\n",
              "    <tr>\n",
              "      <th>0</th>\n",
              "      <td>1.0708</td>\n",
              "      <td>12.3</td>\n",
              "      <td>23</td>\n",
              "      <td>154.25</td>\n",
              "      <td>67.75</td>\n",
              "      <td>36.2</td>\n",
              "      <td>93.1</td>\n",
              "      <td>85.2</td>\n",
              "      <td>94.5</td>\n",
              "      <td>59.0</td>\n",
              "      <td>37.3</td>\n",
              "      <td>21.9</td>\n",
              "      <td>32.0</td>\n",
              "      <td>27.4</td>\n",
              "      <td>17.1</td>\n",
              "    </tr>\n",
              "    <tr>\n",
              "      <th>1</th>\n",
              "      <td>1.0853</td>\n",
              "      <td>6.1</td>\n",
              "      <td>22</td>\n",
              "      <td>173.25</td>\n",
              "      <td>72.25</td>\n",
              "      <td>38.5</td>\n",
              "      <td>93.6</td>\n",
              "      <td>83.0</td>\n",
              "      <td>98.7</td>\n",
              "      <td>58.7</td>\n",
              "      <td>37.3</td>\n",
              "      <td>23.4</td>\n",
              "      <td>30.5</td>\n",
              "      <td>28.9</td>\n",
              "      <td>18.2</td>\n",
              "    </tr>\n",
              "    <tr>\n",
              "      <th>2</th>\n",
              "      <td>1.0414</td>\n",
              "      <td>25.3</td>\n",
              "      <td>22</td>\n",
              "      <td>154.00</td>\n",
              "      <td>66.25</td>\n",
              "      <td>34.0</td>\n",
              "      <td>95.8</td>\n",
              "      <td>87.9</td>\n",
              "      <td>99.2</td>\n",
              "      <td>59.6</td>\n",
              "      <td>38.9</td>\n",
              "      <td>24.0</td>\n",
              "      <td>28.8</td>\n",
              "      <td>25.2</td>\n",
              "      <td>16.6</td>\n",
              "    </tr>\n",
              "    <tr>\n",
              "      <th>3</th>\n",
              "      <td>1.0751</td>\n",
              "      <td>10.4</td>\n",
              "      <td>26</td>\n",
              "      <td>184.75</td>\n",
              "      <td>72.25</td>\n",
              "      <td>37.4</td>\n",
              "      <td>101.8</td>\n",
              "      <td>86.4</td>\n",
              "      <td>101.2</td>\n",
              "      <td>60.1</td>\n",
              "      <td>37.3</td>\n",
              "      <td>22.8</td>\n",
              "      <td>32.4</td>\n",
              "      <td>29.4</td>\n",
              "      <td>18.2</td>\n",
              "    </tr>\n",
              "    <tr>\n",
              "      <th>4</th>\n",
              "      <td>1.0340</td>\n",
              "      <td>28.7</td>\n",
              "      <td>24</td>\n",
              "      <td>184.25</td>\n",
              "      <td>71.25</td>\n",
              "      <td>34.4</td>\n",
              "      <td>97.3</td>\n",
              "      <td>100.0</td>\n",
              "      <td>101.9</td>\n",
              "      <td>63.2</td>\n",
              "      <td>42.2</td>\n",
              "      <td>24.0</td>\n",
              "      <td>32.2</td>\n",
              "      <td>27.7</td>\n",
              "      <td>17.7</td>\n",
              "    </tr>\n",
              "  </tbody>\n",
              "</table>\n",
              "</div>\n",
              "      <button class=\"colab-df-convert\" onclick=\"convertToInteractive('df-6536d98a-77a0-4de8-a88f-a7ebd7300f1b')\"\n",
              "              title=\"Convert this dataframe to an interactive table.\"\n",
              "              style=\"display:none;\">\n",
              "        \n",
              "  <svg xmlns=\"http://www.w3.org/2000/svg\" height=\"24px\"viewBox=\"0 0 24 24\"\n",
              "       width=\"24px\">\n",
              "    <path d=\"M0 0h24v24H0V0z\" fill=\"none\"/>\n",
              "    <path d=\"M18.56 5.44l.94 2.06.94-2.06 2.06-.94-2.06-.94-.94-2.06-.94 2.06-2.06.94zm-11 1L8.5 8.5l.94-2.06 2.06-.94-2.06-.94L8.5 2.5l-.94 2.06-2.06.94zm10 10l.94 2.06.94-2.06 2.06-.94-2.06-.94-.94-2.06-.94 2.06-2.06.94z\"/><path d=\"M17.41 7.96l-1.37-1.37c-.4-.4-.92-.59-1.43-.59-.52 0-1.04.2-1.43.59L10.3 9.45l-7.72 7.72c-.78.78-.78 2.05 0 2.83L4 21.41c.39.39.9.59 1.41.59.51 0 1.02-.2 1.41-.59l7.78-7.78 2.81-2.81c.8-.78.8-2.07 0-2.86zM5.41 20L4 18.59l7.72-7.72 1.47 1.35L5.41 20z\"/>\n",
              "  </svg>\n",
              "      </button>\n",
              "      \n",
              "  <style>\n",
              "    .colab-df-container {\n",
              "      display:flex;\n",
              "      flex-wrap:wrap;\n",
              "      gap: 12px;\n",
              "    }\n",
              "\n",
              "    .colab-df-convert {\n",
              "      background-color: #E8F0FE;\n",
              "      border: none;\n",
              "      border-radius: 50%;\n",
              "      cursor: pointer;\n",
              "      display: none;\n",
              "      fill: #1967D2;\n",
              "      height: 32px;\n",
              "      padding: 0 0 0 0;\n",
              "      width: 32px;\n",
              "    }\n",
              "\n",
              "    .colab-df-convert:hover {\n",
              "      background-color: #E2EBFA;\n",
              "      box-shadow: 0px 1px 2px rgba(60, 64, 67, 0.3), 0px 1px 3px 1px rgba(60, 64, 67, 0.15);\n",
              "      fill: #174EA6;\n",
              "    }\n",
              "\n",
              "    [theme=dark] .colab-df-convert {\n",
              "      background-color: #3B4455;\n",
              "      fill: #D2E3FC;\n",
              "    }\n",
              "\n",
              "    [theme=dark] .colab-df-convert:hover {\n",
              "      background-color: #434B5C;\n",
              "      box-shadow: 0px 1px 3px 1px rgba(0, 0, 0, 0.15);\n",
              "      filter: drop-shadow(0px 1px 2px rgba(0, 0, 0, 0.3));\n",
              "      fill: #FFFFFF;\n",
              "    }\n",
              "  </style>\n",
              "\n",
              "      <script>\n",
              "        const buttonEl =\n",
              "          document.querySelector('#df-6536d98a-77a0-4de8-a88f-a7ebd7300f1b button.colab-df-convert');\n",
              "        buttonEl.style.display =\n",
              "          google.colab.kernel.accessAllowed ? 'block' : 'none';\n",
              "\n",
              "        async function convertToInteractive(key) {\n",
              "          const element = document.querySelector('#df-6536d98a-77a0-4de8-a88f-a7ebd7300f1b');\n",
              "          const dataTable =\n",
              "            await google.colab.kernel.invokeFunction('convertToInteractive',\n",
              "                                                     [key], {});\n",
              "          if (!dataTable) return;\n",
              "\n",
              "          const docLinkHtml = 'Like what you see? Visit the ' +\n",
              "            '<a target=\"_blank\" href=https://colab.research.google.com/notebooks/data_table.ipynb>data table notebook</a>'\n",
              "            + ' to learn more about interactive tables.';\n",
              "          element.innerHTML = '';\n",
              "          dataTable['output_type'] = 'display_data';\n",
              "          await google.colab.output.renderOutput(dataTable, element);\n",
              "          const docLink = document.createElement('div');\n",
              "          docLink.innerHTML = docLinkHtml;\n",
              "          element.appendChild(docLink);\n",
              "        }\n",
              "      </script>\n",
              "    </div>\n",
              "  </div>\n",
              "  "
            ]
          },
          "metadata": {},
          "execution_count": 3
        }
      ]
    },
    {
      "cell_type": "code",
      "source": [
        "df.shape"
      ],
      "metadata": {
        "colab": {
          "base_uri": "https://localhost:8080/"
        },
        "id": "jlgaYYMU6ezn",
        "outputId": "0af4edbd-a384-4312-88df-942557b4bb83"
      },
      "execution_count": null,
      "outputs": [
        {
          "output_type": "execute_result",
          "data": {
            "text/plain": [
              "(252, 15)"
            ]
          },
          "metadata": {},
          "execution_count": 4
        }
      ]
    },
    {
      "cell_type": "code",
      "source": [
        "df.corr()"
      ],
      "metadata": {
        "colab": {
          "base_uri": "https://localhost:8080/",
          "height": 520
        },
        "id": "cClOiBbf6VIm",
        "outputId": "47ebead3-a3bf-451a-ae56-b6535af8df69"
      },
      "execution_count": null,
      "outputs": [
        {
          "output_type": "execute_result",
          "data": {
            "text/plain": [
              "          Density   BodyFat       Age    Weight    Height      Neck     Chest  \\\n",
              "Density  1.000000 -0.987782 -0.277637 -0.594062  0.097881 -0.472966 -0.682599   \n",
              "BodyFat -0.987782  1.000000  0.291458  0.612414 -0.089495  0.490592  0.702620   \n",
              "Age     -0.277637  0.291458  1.000000 -0.012746 -0.171645  0.113505  0.176450   \n",
              "Weight  -0.594062  0.612414 -0.012746  1.000000  0.308279  0.830716  0.894191   \n",
              "Height   0.097881 -0.089495 -0.171645  0.308279  1.000000  0.253710  0.134892   \n",
              "Neck    -0.472966  0.490592  0.113505  0.830716  0.253710  1.000000  0.784835   \n",
              "Chest   -0.682599  0.702620  0.176450  0.894191  0.134892  0.784835  1.000000   \n",
              "Abdomen -0.798955  0.813432  0.230409  0.887995  0.087813  0.754077  0.915828   \n",
              "Hip     -0.609331  0.625201 -0.050332  0.940884  0.170394  0.734958  0.829420   \n",
              "Thigh   -0.553091  0.559608 -0.200096  0.868694  0.148436  0.695697  0.729859   \n",
              "Knee    -0.495040  0.508665  0.017516  0.853167  0.286053  0.672405  0.719496   \n",
              "Ankle   -0.264890  0.265970 -0.105058  0.613685  0.264744  0.477892  0.482988   \n",
              "Biceps  -0.487109  0.493271 -0.041162  0.800416  0.207816  0.731146  0.727907   \n",
              "Forearm -0.351648  0.361387 -0.085056  0.630301  0.228649  0.623660  0.580173   \n",
              "Wrist   -0.325716  0.346575  0.213531  0.729775  0.322065  0.744826  0.660162   \n",
              "\n",
              "          Abdomen       Hip     Thigh      Knee     Ankle    Biceps   Forearm  \\\n",
              "Density -0.798955 -0.609331 -0.553091 -0.495040 -0.264890 -0.487109 -0.351648   \n",
              "BodyFat  0.813432  0.625201  0.559608  0.508665  0.265970  0.493271  0.361387   \n",
              "Age      0.230409 -0.050332 -0.200096  0.017516 -0.105058 -0.041162 -0.085056   \n",
              "Weight   0.887995  0.940884  0.868694  0.853167  0.613685  0.800416  0.630301   \n",
              "Height   0.087813  0.170394  0.148436  0.286053  0.264744  0.207816  0.228649   \n",
              "Neck     0.754077  0.734958  0.695697  0.672405  0.477892  0.731146  0.623660   \n",
              "Chest    0.915828  0.829420  0.729859  0.719496  0.482988  0.727907  0.580173   \n",
              "Abdomen  1.000000  0.874066  0.766624  0.737179  0.453223  0.684983  0.503316   \n",
              "Hip      0.874066  1.000000  0.896410  0.823473  0.558387  0.739273  0.545014   \n",
              "Thigh    0.766624  0.896410  1.000000  0.799170  0.539797  0.761477  0.566842   \n",
              "Knee     0.737179  0.823473  0.799170  1.000000  0.611608  0.678709  0.555898   \n",
              "Ankle    0.453223  0.558387  0.539797  0.611608  1.000000  0.484855  0.419050   \n",
              "Biceps   0.684983  0.739273  0.761477  0.678709  0.484855  1.000000  0.678255   \n",
              "Forearm  0.503316  0.545014  0.566842  0.555898  0.419050  0.678255  1.000000   \n",
              "Wrist    0.619832  0.630090  0.558685  0.664507  0.566195  0.632126  0.585588   \n",
              "\n",
              "            Wrist  \n",
              "Density -0.325716  \n",
              "BodyFat  0.346575  \n",
              "Age      0.213531  \n",
              "Weight   0.729775  \n",
              "Height   0.322065  \n",
              "Neck     0.744826  \n",
              "Chest    0.660162  \n",
              "Abdomen  0.619832  \n",
              "Hip      0.630090  \n",
              "Thigh    0.558685  \n",
              "Knee     0.664507  \n",
              "Ankle    0.566195  \n",
              "Biceps   0.632126  \n",
              "Forearm  0.585588  \n",
              "Wrist    1.000000  "
            ],
            "text/html": [
              "\n",
              "  <div id=\"df-7888f7bc-1886-4b4f-ad25-881a94441461\">\n",
              "    <div class=\"colab-df-container\">\n",
              "      <div>\n",
              "<style scoped>\n",
              "    .dataframe tbody tr th:only-of-type {\n",
              "        vertical-align: middle;\n",
              "    }\n",
              "\n",
              "    .dataframe tbody tr th {\n",
              "        vertical-align: top;\n",
              "    }\n",
              "\n",
              "    .dataframe thead th {\n",
              "        text-align: right;\n",
              "    }\n",
              "</style>\n",
              "<table border=\"1\" class=\"dataframe\">\n",
              "  <thead>\n",
              "    <tr style=\"text-align: right;\">\n",
              "      <th></th>\n",
              "      <th>Density</th>\n",
              "      <th>BodyFat</th>\n",
              "      <th>Age</th>\n",
              "      <th>Weight</th>\n",
              "      <th>Height</th>\n",
              "      <th>Neck</th>\n",
              "      <th>Chest</th>\n",
              "      <th>Abdomen</th>\n",
              "      <th>Hip</th>\n",
              "      <th>Thigh</th>\n",
              "      <th>Knee</th>\n",
              "      <th>Ankle</th>\n",
              "      <th>Biceps</th>\n",
              "      <th>Forearm</th>\n",
              "      <th>Wrist</th>\n",
              "    </tr>\n",
              "  </thead>\n",
              "  <tbody>\n",
              "    <tr>\n",
              "      <th>Density</th>\n",
              "      <td>1.000000</td>\n",
              "      <td>-0.987782</td>\n",
              "      <td>-0.277637</td>\n",
              "      <td>-0.594062</td>\n",
              "      <td>0.097881</td>\n",
              "      <td>-0.472966</td>\n",
              "      <td>-0.682599</td>\n",
              "      <td>-0.798955</td>\n",
              "      <td>-0.609331</td>\n",
              "      <td>-0.553091</td>\n",
              "      <td>-0.495040</td>\n",
              "      <td>-0.264890</td>\n",
              "      <td>-0.487109</td>\n",
              "      <td>-0.351648</td>\n",
              "      <td>-0.325716</td>\n",
              "    </tr>\n",
              "    <tr>\n",
              "      <th>BodyFat</th>\n",
              "      <td>-0.987782</td>\n",
              "      <td>1.000000</td>\n",
              "      <td>0.291458</td>\n",
              "      <td>0.612414</td>\n",
              "      <td>-0.089495</td>\n",
              "      <td>0.490592</td>\n",
              "      <td>0.702620</td>\n",
              "      <td>0.813432</td>\n",
              "      <td>0.625201</td>\n",
              "      <td>0.559608</td>\n",
              "      <td>0.508665</td>\n",
              "      <td>0.265970</td>\n",
              "      <td>0.493271</td>\n",
              "      <td>0.361387</td>\n",
              "      <td>0.346575</td>\n",
              "    </tr>\n",
              "    <tr>\n",
              "      <th>Age</th>\n",
              "      <td>-0.277637</td>\n",
              "      <td>0.291458</td>\n",
              "      <td>1.000000</td>\n",
              "      <td>-0.012746</td>\n",
              "      <td>-0.171645</td>\n",
              "      <td>0.113505</td>\n",
              "      <td>0.176450</td>\n",
              "      <td>0.230409</td>\n",
              "      <td>-0.050332</td>\n",
              "      <td>-0.200096</td>\n",
              "      <td>0.017516</td>\n",
              "      <td>-0.105058</td>\n",
              "      <td>-0.041162</td>\n",
              "      <td>-0.085056</td>\n",
              "      <td>0.213531</td>\n",
              "    </tr>\n",
              "    <tr>\n",
              "      <th>Weight</th>\n",
              "      <td>-0.594062</td>\n",
              "      <td>0.612414</td>\n",
              "      <td>-0.012746</td>\n",
              "      <td>1.000000</td>\n",
              "      <td>0.308279</td>\n",
              "      <td>0.830716</td>\n",
              "      <td>0.894191</td>\n",
              "      <td>0.887995</td>\n",
              "      <td>0.940884</td>\n",
              "      <td>0.868694</td>\n",
              "      <td>0.853167</td>\n",
              "      <td>0.613685</td>\n",
              "      <td>0.800416</td>\n",
              "      <td>0.630301</td>\n",
              "      <td>0.729775</td>\n",
              "    </tr>\n",
              "    <tr>\n",
              "      <th>Height</th>\n",
              "      <td>0.097881</td>\n",
              "      <td>-0.089495</td>\n",
              "      <td>-0.171645</td>\n",
              "      <td>0.308279</td>\n",
              "      <td>1.000000</td>\n",
              "      <td>0.253710</td>\n",
              "      <td>0.134892</td>\n",
              "      <td>0.087813</td>\n",
              "      <td>0.170394</td>\n",
              "      <td>0.148436</td>\n",
              "      <td>0.286053</td>\n",
              "      <td>0.264744</td>\n",
              "      <td>0.207816</td>\n",
              "      <td>0.228649</td>\n",
              "      <td>0.322065</td>\n",
              "    </tr>\n",
              "    <tr>\n",
              "      <th>Neck</th>\n",
              "      <td>-0.472966</td>\n",
              "      <td>0.490592</td>\n",
              "      <td>0.113505</td>\n",
              "      <td>0.830716</td>\n",
              "      <td>0.253710</td>\n",
              "      <td>1.000000</td>\n",
              "      <td>0.784835</td>\n",
              "      <td>0.754077</td>\n",
              "      <td>0.734958</td>\n",
              "      <td>0.695697</td>\n",
              "      <td>0.672405</td>\n",
              "      <td>0.477892</td>\n",
              "      <td>0.731146</td>\n",
              "      <td>0.623660</td>\n",
              "      <td>0.744826</td>\n",
              "    </tr>\n",
              "    <tr>\n",
              "      <th>Chest</th>\n",
              "      <td>-0.682599</td>\n",
              "      <td>0.702620</td>\n",
              "      <td>0.176450</td>\n",
              "      <td>0.894191</td>\n",
              "      <td>0.134892</td>\n",
              "      <td>0.784835</td>\n",
              "      <td>1.000000</td>\n",
              "      <td>0.915828</td>\n",
              "      <td>0.829420</td>\n",
              "      <td>0.729859</td>\n",
              "      <td>0.719496</td>\n",
              "      <td>0.482988</td>\n",
              "      <td>0.727907</td>\n",
              "      <td>0.580173</td>\n",
              "      <td>0.660162</td>\n",
              "    </tr>\n",
              "    <tr>\n",
              "      <th>Abdomen</th>\n",
              "      <td>-0.798955</td>\n",
              "      <td>0.813432</td>\n",
              "      <td>0.230409</td>\n",
              "      <td>0.887995</td>\n",
              "      <td>0.087813</td>\n",
              "      <td>0.754077</td>\n",
              "      <td>0.915828</td>\n",
              "      <td>1.000000</td>\n",
              "      <td>0.874066</td>\n",
              "      <td>0.766624</td>\n",
              "      <td>0.737179</td>\n",
              "      <td>0.453223</td>\n",
              "      <td>0.684983</td>\n",
              "      <td>0.503316</td>\n",
              "      <td>0.619832</td>\n",
              "    </tr>\n",
              "    <tr>\n",
              "      <th>Hip</th>\n",
              "      <td>-0.609331</td>\n",
              "      <td>0.625201</td>\n",
              "      <td>-0.050332</td>\n",
              "      <td>0.940884</td>\n",
              "      <td>0.170394</td>\n",
              "      <td>0.734958</td>\n",
              "      <td>0.829420</td>\n",
              "      <td>0.874066</td>\n",
              "      <td>1.000000</td>\n",
              "      <td>0.896410</td>\n",
              "      <td>0.823473</td>\n",
              "      <td>0.558387</td>\n",
              "      <td>0.739273</td>\n",
              "      <td>0.545014</td>\n",
              "      <td>0.630090</td>\n",
              "    </tr>\n",
              "    <tr>\n",
              "      <th>Thigh</th>\n",
              "      <td>-0.553091</td>\n",
              "      <td>0.559608</td>\n",
              "      <td>-0.200096</td>\n",
              "      <td>0.868694</td>\n",
              "      <td>0.148436</td>\n",
              "      <td>0.695697</td>\n",
              "      <td>0.729859</td>\n",
              "      <td>0.766624</td>\n",
              "      <td>0.896410</td>\n",
              "      <td>1.000000</td>\n",
              "      <td>0.799170</td>\n",
              "      <td>0.539797</td>\n",
              "      <td>0.761477</td>\n",
              "      <td>0.566842</td>\n",
              "      <td>0.558685</td>\n",
              "    </tr>\n",
              "    <tr>\n",
              "      <th>Knee</th>\n",
              "      <td>-0.495040</td>\n",
              "      <td>0.508665</td>\n",
              "      <td>0.017516</td>\n",
              "      <td>0.853167</td>\n",
              "      <td>0.286053</td>\n",
              "      <td>0.672405</td>\n",
              "      <td>0.719496</td>\n",
              "      <td>0.737179</td>\n",
              "      <td>0.823473</td>\n",
              "      <td>0.799170</td>\n",
              "      <td>1.000000</td>\n",
              "      <td>0.611608</td>\n",
              "      <td>0.678709</td>\n",
              "      <td>0.555898</td>\n",
              "      <td>0.664507</td>\n",
              "    </tr>\n",
              "    <tr>\n",
              "      <th>Ankle</th>\n",
              "      <td>-0.264890</td>\n",
              "      <td>0.265970</td>\n",
              "      <td>-0.105058</td>\n",
              "      <td>0.613685</td>\n",
              "      <td>0.264744</td>\n",
              "      <td>0.477892</td>\n",
              "      <td>0.482988</td>\n",
              "      <td>0.453223</td>\n",
              "      <td>0.558387</td>\n",
              "      <td>0.539797</td>\n",
              "      <td>0.611608</td>\n",
              "      <td>1.000000</td>\n",
              "      <td>0.484855</td>\n",
              "      <td>0.419050</td>\n",
              "      <td>0.566195</td>\n",
              "    </tr>\n",
              "    <tr>\n",
              "      <th>Biceps</th>\n",
              "      <td>-0.487109</td>\n",
              "      <td>0.493271</td>\n",
              "      <td>-0.041162</td>\n",
              "      <td>0.800416</td>\n",
              "      <td>0.207816</td>\n",
              "      <td>0.731146</td>\n",
              "      <td>0.727907</td>\n",
              "      <td>0.684983</td>\n",
              "      <td>0.739273</td>\n",
              "      <td>0.761477</td>\n",
              "      <td>0.678709</td>\n",
              "      <td>0.484855</td>\n",
              "      <td>1.000000</td>\n",
              "      <td>0.678255</td>\n",
              "      <td>0.632126</td>\n",
              "    </tr>\n",
              "    <tr>\n",
              "      <th>Forearm</th>\n",
              "      <td>-0.351648</td>\n",
              "      <td>0.361387</td>\n",
              "      <td>-0.085056</td>\n",
              "      <td>0.630301</td>\n",
              "      <td>0.228649</td>\n",
              "      <td>0.623660</td>\n",
              "      <td>0.580173</td>\n",
              "      <td>0.503316</td>\n",
              "      <td>0.545014</td>\n",
              "      <td>0.566842</td>\n",
              "      <td>0.555898</td>\n",
              "      <td>0.419050</td>\n",
              "      <td>0.678255</td>\n",
              "      <td>1.000000</td>\n",
              "      <td>0.585588</td>\n",
              "    </tr>\n",
              "    <tr>\n",
              "      <th>Wrist</th>\n",
              "      <td>-0.325716</td>\n",
              "      <td>0.346575</td>\n",
              "      <td>0.213531</td>\n",
              "      <td>0.729775</td>\n",
              "      <td>0.322065</td>\n",
              "      <td>0.744826</td>\n",
              "      <td>0.660162</td>\n",
              "      <td>0.619832</td>\n",
              "      <td>0.630090</td>\n",
              "      <td>0.558685</td>\n",
              "      <td>0.664507</td>\n",
              "      <td>0.566195</td>\n",
              "      <td>0.632126</td>\n",
              "      <td>0.585588</td>\n",
              "      <td>1.000000</td>\n",
              "    </tr>\n",
              "  </tbody>\n",
              "</table>\n",
              "</div>\n",
              "      <button class=\"colab-df-convert\" onclick=\"convertToInteractive('df-7888f7bc-1886-4b4f-ad25-881a94441461')\"\n",
              "              title=\"Convert this dataframe to an interactive table.\"\n",
              "              style=\"display:none;\">\n",
              "        \n",
              "  <svg xmlns=\"http://www.w3.org/2000/svg\" height=\"24px\"viewBox=\"0 0 24 24\"\n",
              "       width=\"24px\">\n",
              "    <path d=\"M0 0h24v24H0V0z\" fill=\"none\"/>\n",
              "    <path d=\"M18.56 5.44l.94 2.06.94-2.06 2.06-.94-2.06-.94-.94-2.06-.94 2.06-2.06.94zm-11 1L8.5 8.5l.94-2.06 2.06-.94-2.06-.94L8.5 2.5l-.94 2.06-2.06.94zm10 10l.94 2.06.94-2.06 2.06-.94-2.06-.94-.94-2.06-.94 2.06-2.06.94z\"/><path d=\"M17.41 7.96l-1.37-1.37c-.4-.4-.92-.59-1.43-.59-.52 0-1.04.2-1.43.59L10.3 9.45l-7.72 7.72c-.78.78-.78 2.05 0 2.83L4 21.41c.39.39.9.59 1.41.59.51 0 1.02-.2 1.41-.59l7.78-7.78 2.81-2.81c.8-.78.8-2.07 0-2.86zM5.41 20L4 18.59l7.72-7.72 1.47 1.35L5.41 20z\"/>\n",
              "  </svg>\n",
              "      </button>\n",
              "      \n",
              "  <style>\n",
              "    .colab-df-container {\n",
              "      display:flex;\n",
              "      flex-wrap:wrap;\n",
              "      gap: 12px;\n",
              "    }\n",
              "\n",
              "    .colab-df-convert {\n",
              "      background-color: #E8F0FE;\n",
              "      border: none;\n",
              "      border-radius: 50%;\n",
              "      cursor: pointer;\n",
              "      display: none;\n",
              "      fill: #1967D2;\n",
              "      height: 32px;\n",
              "      padding: 0 0 0 0;\n",
              "      width: 32px;\n",
              "    }\n",
              "\n",
              "    .colab-df-convert:hover {\n",
              "      background-color: #E2EBFA;\n",
              "      box-shadow: 0px 1px 2px rgba(60, 64, 67, 0.3), 0px 1px 3px 1px rgba(60, 64, 67, 0.15);\n",
              "      fill: #174EA6;\n",
              "    }\n",
              "\n",
              "    [theme=dark] .colab-df-convert {\n",
              "      background-color: #3B4455;\n",
              "      fill: #D2E3FC;\n",
              "    }\n",
              "\n",
              "    [theme=dark] .colab-df-convert:hover {\n",
              "      background-color: #434B5C;\n",
              "      box-shadow: 0px 1px 3px 1px rgba(0, 0, 0, 0.15);\n",
              "      filter: drop-shadow(0px 1px 2px rgba(0, 0, 0, 0.3));\n",
              "      fill: #FFFFFF;\n",
              "    }\n",
              "  </style>\n",
              "\n",
              "      <script>\n",
              "        const buttonEl =\n",
              "          document.querySelector('#df-7888f7bc-1886-4b4f-ad25-881a94441461 button.colab-df-convert');\n",
              "        buttonEl.style.display =\n",
              "          google.colab.kernel.accessAllowed ? 'block' : 'none';\n",
              "\n",
              "        async function convertToInteractive(key) {\n",
              "          const element = document.querySelector('#df-7888f7bc-1886-4b4f-ad25-881a94441461');\n",
              "          const dataTable =\n",
              "            await google.colab.kernel.invokeFunction('convertToInteractive',\n",
              "                                                     [key], {});\n",
              "          if (!dataTable) return;\n",
              "\n",
              "          const docLinkHtml = 'Like what you see? Visit the ' +\n",
              "            '<a target=\"_blank\" href=https://colab.research.google.com/notebooks/data_table.ipynb>data table notebook</a>'\n",
              "            + ' to learn more about interactive tables.';\n",
              "          element.innerHTML = '';\n",
              "          dataTable['output_type'] = 'display_data';\n",
              "          await google.colab.output.renderOutput(dataTable, element);\n",
              "          const docLink = document.createElement('div');\n",
              "          docLink.innerHTML = docLinkHtml;\n",
              "          element.appendChild(docLink);\n",
              "        }\n",
              "      </script>\n",
              "    </div>\n",
              "  </div>\n",
              "  "
            ]
          },
          "metadata": {},
          "execution_count": 5
        }
      ]
    },
    {
      "cell_type": "code",
      "source": [
        "df.info()"
      ],
      "metadata": {
        "colab": {
          "base_uri": "https://localhost:8080/"
        },
        "id": "Yy2N7NlN6W44",
        "outputId": "018a7624-0c39-4f80-edd4-dad675419b67"
      },
      "execution_count": null,
      "outputs": [
        {
          "output_type": "stream",
          "name": "stdout",
          "text": [
            "<class 'pandas.core.frame.DataFrame'>\n",
            "RangeIndex: 252 entries, 0 to 251\n",
            "Data columns (total 15 columns):\n",
            " #   Column   Non-Null Count  Dtype  \n",
            "---  ------   --------------  -----  \n",
            " 0   Density  252 non-null    float64\n",
            " 1   BodyFat  252 non-null    float64\n",
            " 2   Age      252 non-null    int64  \n",
            " 3   Weight   252 non-null    float64\n",
            " 4   Height   252 non-null    float64\n",
            " 5   Neck     252 non-null    float64\n",
            " 6   Chest    252 non-null    float64\n",
            " 7   Abdomen  252 non-null    float64\n",
            " 8   Hip      252 non-null    float64\n",
            " 9   Thigh    252 non-null    float64\n",
            " 10  Knee     252 non-null    float64\n",
            " 11  Ankle    252 non-null    float64\n",
            " 12  Biceps   252 non-null    float64\n",
            " 13  Forearm  252 non-null    float64\n",
            " 14  Wrist    252 non-null    float64\n",
            "dtypes: float64(14), int64(1)\n",
            "memory usage: 29.7 KB\n"
          ]
        }
      ]
    },
    {
      "cell_type": "code",
      "source": [
        "df.isna().sum()"
      ],
      "metadata": {
        "colab": {
          "base_uri": "https://localhost:8080/"
        },
        "id": "DH90cfht6X_h",
        "outputId": "e230fdbd-82ec-49c3-85e8-b2b1b04c7810"
      },
      "execution_count": null,
      "outputs": [
        {
          "output_type": "execute_result",
          "data": {
            "text/plain": [
              "Density    0\n",
              "BodyFat    0\n",
              "Age        0\n",
              "Weight     0\n",
              "Height     0\n",
              "Neck       0\n",
              "Chest      0\n",
              "Abdomen    0\n",
              "Hip        0\n",
              "Thigh      0\n",
              "Knee       0\n",
              "Ankle      0\n",
              "Biceps     0\n",
              "Forearm    0\n",
              "Wrist      0\n",
              "dtype: int64"
            ]
          },
          "metadata": {},
          "execution_count": 7
        }
      ]
    },
    {
      "cell_type": "markdown",
      "source": [
        "# Model Building"
      ],
      "metadata": {
        "id": "tRArs8w96s6c"
      }
    },
    {
      "cell_type": "code",
      "source": [
        "from sklearn.model_selection import train_test_split\n",
        "from sklearn.linear_model import LinearRegression\n",
        "from sklearn.svm import SVR\n",
        "from sklearn import linear_model\n",
        "from sklearn import tree\n",
        "from sklearn import metrics\n",
        "from sklearn.metrics import explained_variance_score\n",
        "from sklearn.metrics import mean_absolute_error\n",
        "from sklearn.metrics import mean_squared_error\n",
        "from sklearn.metrics import r2_score"
      ],
      "metadata": {
        "id": "gDj_vlWE6bNN"
      },
      "execution_count": null,
      "outputs": []
    },
    {
      "cell_type": "code",
      "source": [
        "y = df.BodyFat.copy()\n",
        "X = df.drop('BodyFat',axis=1)"
      ],
      "metadata": {
        "id": "EN5TAVSC7ojs"
      },
      "execution_count": null,
      "outputs": []
    },
    {
      "cell_type": "code",
      "source": [
        "X_train, X_test, y_train, y_test = train_test_split(X, y, test_size=0.3)"
      ],
      "metadata": {
        "id": "iN7o3-BJ79OU"
      },
      "execution_count": null,
      "outputs": []
    },
    {
      "cell_type": "markdown",
      "source": [
        "## Linear Regression"
      ],
      "metadata": {
        "id": "PFBfx8Vv9Xru"
      }
    },
    {
      "cell_type": "code",
      "source": [
        "LR = LinearRegression(fit_intercept=True)"
      ],
      "metadata": {
        "id": "srOKCm6i6rrS"
      },
      "execution_count": null,
      "outputs": []
    },
    {
      "cell_type": "code",
      "source": [
        "LR.fit(X_train,y_train)"
      ],
      "metadata": {
        "colab": {
          "base_uri": "https://localhost:8080/"
        },
        "id": "pjCM0QxS79Ub",
        "outputId": "44a4858d-910a-4e0f-f6d8-a176508dfe26"
      },
      "execution_count": null,
      "outputs": [
        {
          "output_type": "execute_result",
          "data": {
            "text/plain": [
              "LinearRegression()"
            ]
          },
          "metadata": {},
          "execution_count": 12
        }
      ]
    },
    {
      "cell_type": "code",
      "source": [
        "y_pred = LR.predict(X_test)"
      ],
      "metadata": {
        "id": "a8WTP3zg79WY"
      },
      "execution_count": null,
      "outputs": []
    },
    {
      "cell_type": "code",
      "source": [
        "print('Expanded Variance Score',explained_variance_score(y_test, y_pred))\n",
        "print('Mean Absolute Error',mean_absolute_error(y_test, y_pred))\n",
        "print('Mean Squared Error',mean_squared_error(y_test, y_pred))\n",
        "print('R Sqaure',r2_score(y_test, y_pred))"
      ],
      "metadata": {
        "colab": {
          "base_uri": "https://localhost:8080/"
        },
        "id": "Hc1HCDIg79YT",
        "outputId": "34355295-29d6-4924-c233-89948ceb9203"
      },
      "execution_count": null,
      "outputs": [
        {
          "output_type": "stream",
          "name": "stdout",
          "text": [
            "Expanded Variance Score 0.9901648462391686\n",
            "Mean Absolute Error 0.5668612815314495\n",
            "Mean Squared Error 0.6258752119056262\n",
            "R Sqaure 0.9901086631602338\n"
          ]
        }
      ]
    },
    {
      "cell_type": "markdown",
      "source": [
        "## Support Vector Regression"
      ],
      "metadata": {
        "id": "4ZKdH4W19vGb"
      }
    },
    {
      "cell_type": "code",
      "source": [
        "model = SVR(kernel='linear',gamma='auto')"
      ],
      "metadata": {
        "id": "aXAaOXCx9uFJ"
      },
      "execution_count": null,
      "outputs": []
    },
    {
      "cell_type": "code",
      "source": [
        "model.fit(X_train,y_train)"
      ],
      "metadata": {
        "colab": {
          "base_uri": "https://localhost:8080/"
        },
        "id": "BQXDxXif94Az",
        "outputId": "59eda499-9ad7-42e2-ac99-ac70c0547ea4"
      },
      "execution_count": null,
      "outputs": [
        {
          "output_type": "execute_result",
          "data": {
            "text/plain": [
              "SVR(gamma='auto', kernel='linear')"
            ]
          },
          "metadata": {},
          "execution_count": 16
        }
      ]
    },
    {
      "cell_type": "code",
      "source": [
        "y_pred_svr = model.predict(X_test)"
      ],
      "metadata": {
        "id": "ZgzNx_zW97kW"
      },
      "execution_count": null,
      "outputs": []
    },
    {
      "cell_type": "code",
      "source": [
        "print('Expanded Variance Score',explained_variance_score(y_test, y_pred_svr))\n",
        "print('Mean Absolute Error',mean_absolute_error(y_test, y_pred_svr))\n",
        "print('Mean Squared Error',mean_squared_error(y_test, y_pred_svr))\n",
        "print('R Sqaure',r2_score(y_test, y_pred_svr))"
      ],
      "metadata": {
        "colab": {
          "base_uri": "https://localhost:8080/"
        },
        "id": "LpjxRxRb-BkF",
        "outputId": "a8ff27f1-ea8c-4fb5-ec06-7d88a6f78d07"
      },
      "execution_count": null,
      "outputs": [
        {
          "output_type": "stream",
          "name": "stdout",
          "text": [
            "Expanded Variance Score 0.6395886060874337\n",
            "Mean Absolute Error 3.9494411507068454\n",
            "Mean Squared Error 22.847957216841213\n",
            "R Sqaure 0.6389107019524849\n"
          ]
        }
      ]
    },
    {
      "cell_type": "markdown",
      "source": [
        "## Lasso Regression"
      ],
      "metadata": {
        "id": "3DuUPG7Y_Fqk"
      }
    },
    {
      "cell_type": "code",
      "source": [
        "clf = linear_model.Lasso(alpha=0.5)"
      ],
      "metadata": {
        "id": "6Z8B-vbw-FQm"
      },
      "execution_count": null,
      "outputs": []
    },
    {
      "cell_type": "code",
      "source": [
        "clf.fit(X_train,y_train)"
      ],
      "metadata": {
        "colab": {
          "base_uri": "https://localhost:8080/"
        },
        "id": "22IEhoTB_G_q",
        "outputId": "a834d032-fd7e-4d80-cd73-74277d779029"
      },
      "execution_count": null,
      "outputs": [
        {
          "output_type": "execute_result",
          "data": {
            "text/plain": [
              "Lasso(alpha=0.5)"
            ]
          },
          "metadata": {},
          "execution_count": 20
        }
      ]
    },
    {
      "cell_type": "code",
      "source": [
        "y_pred_clf = clf.predict(X_test)"
      ],
      "metadata": {
        "id": "ectgrUbb_jgz"
      },
      "execution_count": null,
      "outputs": []
    },
    {
      "cell_type": "code",
      "source": [
        "print('Expanded Variance Score',explained_variance_score(y_test, y_pred_clf))\n",
        "print('Mean Absolute Error',mean_absolute_error(y_test, y_pred_clf))\n",
        "print('Mean Squared Error',mean_squared_error(y_test, y_pred_clf))\n",
        "print('R Sqaure',r2_score(y_test, y_pred_clf))"
      ],
      "metadata": {
        "colab": {
          "base_uri": "https://localhost:8080/"
        },
        "id": "c3DpwbIm_nDI",
        "outputId": "c2d19b76-82a3-4502-ba5d-5d38e9201d37"
      },
      "execution_count": null,
      "outputs": [
        {
          "output_type": "stream",
          "name": "stdout",
          "text": [
            "Expanded Variance Score 0.6561165056902567\n",
            "Mean Absolute Error 3.8240621028916317\n",
            "Mean Squared Error 21.83754936919049\n",
            "R Sqaure 0.6548791956338793\n"
          ]
        }
      ]
    },
    {
      "cell_type": "markdown",
      "source": [
        "## Decision Tree"
      ],
      "metadata": {
        "id": "Lo3EhmD3AtIZ"
      }
    },
    {
      "cell_type": "code",
      "source": [
        "DT = tree.DecisionTreeRegressor(max_depth=6)"
      ],
      "metadata": {
        "id": "kUjv877E_oqU"
      },
      "execution_count": null,
      "outputs": []
    },
    {
      "cell_type": "code",
      "source": [
        "DT.fit(X_train,y_train)"
      ],
      "metadata": {
        "colab": {
          "base_uri": "https://localhost:8080/"
        },
        "id": "Z7CbhWKgJvAR",
        "outputId": "6767a79e-a5c9-4837-a8d7-992a1c4b900e"
      },
      "execution_count": null,
      "outputs": [
        {
          "output_type": "execute_result",
          "data": {
            "text/plain": [
              "DecisionTreeRegressor(max_depth=6)"
            ]
          },
          "metadata": {},
          "execution_count": 24
        }
      ]
    },
    {
      "cell_type": "code",
      "source": [
        "y_pred_DT = DT.predict(X_test)"
      ],
      "metadata": {
        "id": "Yu1Vyq13Jvqj"
      },
      "execution_count": null,
      "outputs": []
    },
    {
      "cell_type": "code",
      "source": [
        "print('Expanded Variance Score',explained_variance_score(y_test, y_pred_DT))\n",
        "print('Mean Absolute Error',mean_absolute_error(y_test, y_pred_DT))\n",
        "print('Mean Squared Error',mean_squared_error(y_test, y_pred_DT))\n",
        "print('R Sqaure',r2_score(y_test, y_pred_DT))"
      ],
      "metadata": {
        "colab": {
          "base_uri": "https://localhost:8080/"
        },
        "id": "z5QEhhRxJvtG",
        "outputId": "c2c64e97-7bbf-4908-a154-db5da157ca0a"
      },
      "execution_count": null,
      "outputs": [
        {
          "output_type": "stream",
          "name": "stdout",
          "text": [
            "Expanded Variance Score 0.9869940529451966\n",
            "Mean Absolute Error 0.35353696741854607\n",
            "Mean Squared Error 0.825375666099773\n",
            "R Sqaure 0.9869557563913072\n"
          ]
        }
      ]
    },
    {
      "cell_type": "markdown",
      "source": [
        "## Random Forest"
      ],
      "metadata": {
        "id": "Bh0juvuNKYoI"
      }
    },
    {
      "cell_type": "code",
      "source": [
        "from sklearn.ensemble import RandomForestRegressor"
      ],
      "metadata": {
        "id": "Sg4jcTTBJvvr"
      },
      "execution_count": null,
      "outputs": []
    },
    {
      "cell_type": "code",
      "source": [
        "regr = RandomForestRegressor(max_depth=7, random_state=0)"
      ],
      "metadata": {
        "id": "0bvwvD3cKZaK"
      },
      "execution_count": null,
      "outputs": []
    },
    {
      "cell_type": "code",
      "source": [
        "regr.fit(X, y)"
      ],
      "metadata": {
        "colab": {
          "base_uri": "https://localhost:8080/"
        },
        "id": "CyJW80YoG9yp",
        "outputId": "7536843c-e321-4293-d615-a38e4351891f"
      },
      "execution_count": null,
      "outputs": [
        {
          "output_type": "execute_result",
          "data": {
            "text/plain": [
              "RandomForestRegressor(max_depth=7, random_state=0)"
            ]
          },
          "metadata": {},
          "execution_count": 62
        }
      ]
    },
    {
      "cell_type": "code",
      "source": [
        "y_pred_rf = regr.predict(X_test)"
      ],
      "metadata": {
        "id": "Eiunc8T-HA_7"
      },
      "execution_count": null,
      "outputs": []
    },
    {
      "cell_type": "code",
      "source": [
        "print('Expanded Variance Score',explained_variance_score(y_test, y_pred_rf))\n",
        "print('Mean Absolute Error',mean_absolute_error(y_test, y_pred_rf))\n",
        "print('Mean Squared Error',mean_squared_error(y_test, y_pred_rf))\n",
        "print('R Sqaure',r2_score(y_test, y_pred_rf))"
      ],
      "metadata": {
        "colab": {
          "base_uri": "https://localhost:8080/"
        },
        "id": "U4L8udKTHGyp",
        "outputId": "fcc36306-0e7c-46a6-cf50-afe0c8761ca2"
      },
      "execution_count": null,
      "outputs": [
        {
          "output_type": "stream",
          "name": "stdout",
          "text": [
            "Expanded Variance Score 0.9995368766153299\n",
            "Mean Absolute Error 0.08443089666950435\n",
            "Mean Squared Error 0.029357842353259455\n",
            "R Sqaure 0.9995360284253458\n"
          ]
        }
      ]
    },
    {
      "cell_type": "code",
      "source": [
        ""
      ],
      "metadata": {
        "id": "2rz6g1pVHNcI"
      },
      "execution_count": null,
      "outputs": []
    }
  ]
}